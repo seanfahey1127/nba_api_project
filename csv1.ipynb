{
 "cells": [
  {
   "cell_type": "code",
   "execution_count": 1,
   "id": "58daced4-1363-4de7-9a77-7f3b2beb6116",
   "metadata": {},
   "outputs": [],
   "source": [
    "#from nba_api.stats.static import players\n",
    "#from nba_api.stats.endpoints import PlayerDashboardByYearOverYear\n",
    "#import pandas as pd\n",
    "#import time\n",
    "\n",
    "# Get active players list\n",
    "#active_players = players.get_active_players()\n",
    "\n",
    "# Store all players' season stats\n",
    "#all_stats = []\n",
    "\n",
    "# Loop through each player\n",
    "#for i, player in enumerate(active_players):\n",
    "    #try:\n",
    "        #print(f\"Fetching data for: {player['full_name']} ({i+1}/{len(active_players)})\")\n",
    "        \n",
    "        # Get season-by-season data\n",
    "       # stats = PlayerDashboardByYearOverYear(player_id=player['id'])\n",
    "       # season_data = stats.get_data_frames()[1]  # [1] is the season-level breakdown\n",
    "        \n",
    "        #season_data['PLAYER_NAME'] = player['full_name']\n",
    "        #all_stats.append(season_data)\n",
    "        \n",
    "        #time.sleep(0.6)  # Respect API rate limits\n",
    "    #except Exception as e:\n",
    "        #print(f\"Failed for {player['full_name']}: {e}\")\n",
    "        #continue\n",
    "\n",
    "# Combine all players' data\n",
    "#season_stats_df = pd.concat(all_stats, ignore_index=True)\n",
    "\n",
    "# Save to CSV\n",
    "#season_stats_df.to_csv(\"nba_season_stats_all_players.csv\", index=False)\n",
    "#print(\"✅ Done! Saved as 'nba_season_stats_all_players.csv'\")\n",
    "\n"
   ]
  },
  {
   "cell_type": "code",
   "execution_count": null,
   "id": "fd3f7253-2c78-4d50-a7df-e447855cc121",
   "metadata": {},
   "outputs": [],
   "source": [
    "from nba_api.stats.static import players\n",
    "from nba_api.stats.endpoints import PlayerDashboardByYearOverYear\n",
    "import pandas as pd\n",
    "import time\n",
    "\n",
    "all_players = players.get_players()\n",
    "all_stats = []\n",
    "\n",
    "for player in all_players:\n",
    "    try:\n",
    "        stats = PlayerDashboardByYearOverYear(player_id=player['id'])\n",
    "        season_df = stats.get_data_frames()[1]\n",
    "        \n",
    "        if not season_df.empty:\n",
    "            season_df['PLAYER_NAME'] = player['full_name']\n",
    "            season_df['PLAYER_ID'] = player['id']\n",
    "            all_stats.append(season_df)\n",
    "        \n",
    "        time.sleep(0.6)\n",
    "\n",
    "    except:\n",
    "        continue\n",
    "\n",
    "full_df = pd.concat(all_stats, ignore_index=True)\n",
    "full_df.to_csv(\"nba_all_player_season_stats.csv\", index=False)\n"
   ]
  },
  {
   "cell_type": "code",
   "execution_count": null,
   "id": "d7ddc6e4-9ac5-49af-a3f7-d21c6b5a328a",
   "metadata": {},
   "outputs": [],
   "source": []
  }
 ],
 "metadata": {
  "kernelspec": {
   "display_name": "Python 3 (ipykernel)",
   "language": "python",
   "name": "python3"
  },
  "language_info": {
   "codemirror_mode": {
    "name": "ipython",
    "version": 3
   },
   "file_extension": ".py",
   "mimetype": "text/x-python",
   "name": "python",
   "nbconvert_exporter": "python",
   "pygments_lexer": "ipython3",
   "version": "3.12.7"
  }
 },
 "nbformat": 4,
 "nbformat_minor": 5
}
