{
 "cells": [
  {
   "cell_type": "code",
   "execution_count": 2,
   "id": "046ad94d-bf10-4f6f-b29b-01a4d46f269d",
   "metadata": {},
   "outputs": [
    {
     "name": "stdout",
     "output_type": "stream",
     "text": [
      "🔁 Loaded existing data: 3616 rows\n",
      "Adding PLAYER_ID column to existing data...\n",
      "⏳ Fetching: Taran Armstrong (15/572)\n",
      "⏳ Fetching: Marcus Bagley (18/572)\n",
      "⏳ Fetching: DaRon Holmes II (214/572)\n",
      "⏳ Fetching: Patty Mills (343/572)\n",
      "⏳ Fetching: Ethan Thompson (491/572)\n",
      "⏳ Fetching: Nikola Topić (499/572)\n",
      "✅ Updated CSV saved: nba_season_stats_all_players.csv with 3637 rows\n"
     ]
    },
    {
     "name": "stderr",
     "output_type": "stream",
     "text": [
      "C:\\Users\\seanf\\AppData\\Local\\Temp\\ipykernel_19376\\3035883184.py:50: FutureWarning: The behavior of DataFrame concatenation with empty or all-NA entries is deprecated. In a future version, this will no longer exclude empty or all-NA columns when determining the result dtypes. To retain the old behavior, exclude the relevant entries before the concat operation.\n",
      "  final_df = pd.concat(all_stats, ignore_index=True)\n"
     ]
    }
   ],
   "source": [
    "from nba_api.stats.static import players\n",
    "from nba_api.stats.endpoints import PlayerDashboardByYearOverYear\n",
    "import pandas as pd\n",
    "import time\n",
    "import os\n",
    "\n",
    "csv_path = \"nba_season_stats_all_players.csv\"\n",
    "\n",
    "# Load existing CSV or create empty DataFrame\n",
    "if os.path.exists(csv_path):\n",
    "    existing_df = pd.read_csv(csv_path, encoding='utf-8-sig')\n",
    "    print(f\"🔁 Loaded existing data: {len(existing_df)} rows\")\n",
    "else:\n",
    "    existing_df = pd.DataFrame()\n",
    "    print(\"🆕 No existing CSV found. Starting fresh.\")\n",
    "\n",
    "# Map player names to IDs using nba_api static player list\n",
    "player_list = players.get_active_players()\n",
    "player_map = {p['full_name']: p['id'] for p in player_list}\n",
    "\n",
    "# Add PLAYER_ID column if missing\n",
    "if 'PLAYER_ID' not in existing_df.columns:\n",
    "    print(\"Adding PLAYER_ID column to existing data...\")\n",
    "    existing_df['PLAYER_ID'] = existing_df['PLAYER_NAME'].map(player_map)\n",
    "\n",
    "# Create set of fetched player IDs to avoid re-fetching\n",
    "fetched_ids = set(existing_df['PLAYER_ID'].dropna().astype(int).unique()) if not existing_df.empty else set()\n",
    "\n",
    "all_stats = [existing_df] if not existing_df.empty else []\n",
    "\n",
    "# Fetch data for players not yet in CSV\n",
    "for i, player in enumerate(player_list):\n",
    "    if player['id'] in fetched_ids:\n",
    "        continue  # Skip already fetched players\n",
    "\n",
    "    try:\n",
    "        print(f\"⏳ Fetching: {player['full_name']} ({i+1}/{len(player_list)})\")\n",
    "        stats = PlayerDashboardByYearOverYear(player_id=player['id'])\n",
    "        season_data = stats.get_data_frames()[1]\n",
    "        season_data['PLAYER_NAME'] = player['full_name']\n",
    "        season_data['PLAYER_ID'] = player['id']\n",
    "        all_stats.append(season_data)\n",
    "        time.sleep(0.5)  # Respect API rate limit\n",
    "    except Exception as e:\n",
    "        print(f\"❌ Failed for {player['full_name']}: {e}\")\n",
    "        continue\n",
    "\n",
    "# Combine all data and save with utf-8-sig encoding for Power BI\n",
    "if all_stats:\n",
    "    final_df = pd.concat(all_stats, ignore_index=True)\n",
    "    final_df.to_csv(csv_path, index=False, encoding='utf-8-sig')\n",
    "    print(f\"✅ Updated CSV saved: {csv_path} with {len(final_df)} rows\")\n",
    "else:\n",
    "    print(\"⚠️ No new data fetched. CSV not changed.\")\n"
   ]
  }
 ],
 "metadata": {
  "kernelspec": {
   "display_name": "Python 3 (ipykernel)",
   "language": "python",
   "name": "python3"
  },
  "language_info": {
   "codemirror_mode": {
    "name": "ipython",
    "version": 3
   },
   "file_extension": ".py",
   "mimetype": "text/x-python",
   "name": "python",
   "nbconvert_exporter": "python",
   "pygments_lexer": "ipython3",
   "version": "3.12.7"
  }
 },
 "nbformat": 4,
 "nbformat_minor": 5
}
